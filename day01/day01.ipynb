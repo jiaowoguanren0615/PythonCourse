{
 "cells": [
  {
   "cell_type": "markdown",
   "id": "c025d2a3-043e-4059-912d-898bfb016146",
   "metadata": {},
   "source": [
    "# Python数据类型"
   ]
  },
  {
   "cell_type": "code",
   "execution_count": 3,
   "id": "d01bf545-936c-499c-a387-ba438395157e",
   "metadata": {},
   "outputs": [
    {
     "name": "stdout",
     "output_type": "stream",
     "text": [
      "hello world\n",
      "<class 'str'>\n"
     ]
    }
   ],
   "source": [
    "# string\n",
    "var_a = \"hello world\"\n",
    "\n",
    "print(var_a)\n",
    "print(type(var_a))"
   ]
  },
  {
   "cell_type": "code",
   "execution_count": 4,
   "id": "30280ed7-6111-472e-820d-ea9ff244ea6c",
   "metadata": {},
   "outputs": [
    {
     "name": "stdout",
     "output_type": "stream",
     "text": [
      "2\n",
      "<class 'int'>\n"
     ]
    }
   ],
   "source": [
    "# int\n",
    "var_b = 2\n",
    "\n",
    "print(var_b)\n",
    "print(type(var_b))"
   ]
  },
  {
   "cell_type": "code",
   "execution_count": 5,
   "id": "8034f821-169d-4b6e-8dc1-7fb7853f8869",
   "metadata": {},
   "outputs": [
    {
     "name": "stdout",
     "output_type": "stream",
     "text": [
      "2.0\n",
      "<class 'float'>\n"
     ]
    }
   ],
   "source": [
    "# float\n",
    "var_c = 2.\n",
    "\n",
    "print(var_c)\n",
    "print(type(var_c))"
   ]
  },
  {
   "cell_type": "markdown",
   "id": "c26c2238-15de-412a-9598-318ac9ff04f1",
   "metadata": {},
   "source": [
    "## Python 四则运算"
   ]
  },
  {
   "cell_type": "code",
   "execution_count": 8,
   "id": "5add0ce9-106b-4236-a57e-413d9e749ccd",
   "metadata": {},
   "outputs": [
    {
     "data": {
      "text/plain": [
       "'hello world'"
      ]
     },
     "execution_count": 8,
     "metadata": {},
     "output_type": "execute_result"
    }
   ],
   "source": [
    "str_a = 'hello '\n",
    "str_b = 'world'\n",
    "str_a + str_b"
   ]
  },
  {
   "cell_type": "code",
   "execution_count": 13,
   "id": "fa06c883-848e-46ea-8406-918ce04a5adb",
   "metadata": {},
   "outputs": [
    {
     "name": "stdout",
     "output_type": "stream",
     "text": [
      "12\n",
      "<class 'str'>\n"
     ]
    }
   ],
   "source": [
    "str_a = '1'\n",
    "str_b = '2'\n",
    "print(str_a + str_b)\n",
    "print(type(str_a + str_b))"
   ]
  },
  {
   "cell_type": "code",
   "execution_count": 17,
   "id": "2efd9968-19ae-4edb-bdfe-e900e81ec1c4",
   "metadata": {},
   "outputs": [
    {
     "name": "stdout",
     "output_type": "stream",
     "text": [
      "5\n",
      "<class 'int'>\n"
     ]
    }
   ],
   "source": [
    "int_a = 2\n",
    "int_b = 3\n",
    "print(int_a + int_b)\n",
    "print(type(int_a + int_b))"
   ]
  },
  {
   "cell_type": "code",
   "execution_count": 19,
   "id": "00dd0f39-bf5c-4f8e-a1f5-1a43f05866a9",
   "metadata": {},
   "outputs": [
    {
     "name": "stdout",
     "output_type": "stream",
     "text": [
      "5.0\n",
      "<class 'float'>\n"
     ]
    }
   ],
   "source": [
    "float_a = 2.0\n",
    "float_b = 3.0\n",
    "print(float_a + float_b)\n",
    "print(type(float_a + float_b))"
   ]
  },
  {
   "cell_type": "code",
   "execution_count": 20,
   "id": "b76ca8e1-6eb2-4192-94dd-8418507b4adc",
   "metadata": {},
   "outputs": [
    {
     "name": "stdout",
     "output_type": "stream",
     "text": [
      "5.0\n",
      "<class 'float'>\n"
     ]
    }
   ],
   "source": [
    "print(int_a + float_b)\n",
    "print(type(int_a + float_b))"
   ]
  },
  {
   "cell_type": "code",
   "execution_count": 22,
   "id": "28fa9da3-e446-4f0f-bfe3-602e7ed551cb",
   "metadata": {},
   "outputs": [
    {
     "name": "stdout",
     "output_type": "stream",
     "text": [
      "2.0\n",
      "2\n"
     ]
    }
   ],
   "source": [
    "# python的 / 表示小数除法\n",
    "# python的 // 表示整数除法\n",
    "print(4 / 2)\n",
    "print(4 // 2) # 取商"
   ]
  },
  {
   "cell_type": "code",
   "execution_count": 24,
   "id": "5d24327d-d7c2-47bf-a6d6-aca6e24c8f9b",
   "metadata": {},
   "outputs": [
    {
     "data": {
      "text/plain": [
       "2"
      ]
     },
     "execution_count": 24,
     "metadata": {},
     "output_type": "execute_result"
    }
   ],
   "source": [
    "5 // 2"
   ]
  },
  {
   "cell_type": "code",
   "execution_count": 23,
   "id": "05eefd90-c6e5-4fe1-bc5b-4bb541e858c7",
   "metadata": {},
   "outputs": [
    {
     "data": {
      "text/plain": [
       "1"
      ]
     },
     "execution_count": 23,
     "metadata": {},
     "output_type": "execute_result"
    }
   ],
   "source": [
    "5 % 2"
   ]
  },
  {
   "cell_type": "code",
   "execution_count": 26,
   "id": "c92d8358-1ff8-49a0-9f74-5cd92903c063",
   "metadata": {},
   "outputs": [
    {
     "data": {
      "text/plain": [
       "6"
      ]
     },
     "execution_count": 26,
     "metadata": {},
     "output_type": "execute_result"
    }
   ],
   "source": [
    "2 * 3"
   ]
  },
  {
   "cell_type": "code",
   "execution_count": 28,
   "id": "ecb78d64-48c4-452f-a2ae-f4f3f0301724",
   "metadata": {},
   "outputs": [
    {
     "data": {
      "text/plain": [
       "16"
      ]
     },
     "execution_count": 28,
     "metadata": {},
     "output_type": "execute_result"
    }
   ],
   "source": [
    "2 ** 4"
   ]
  },
  {
   "cell_type": "code",
   "execution_count": 32,
   "id": "9c685764-800a-410f-bad6-19ec16eb6fd5",
   "metadata": {},
   "outputs": [
    {
     "data": {
      "text/plain": [
       "2.0"
      ]
     },
     "execution_count": 32,
     "metadata": {},
     "output_type": "execute_result"
    }
   ],
   "source": [
    "16 ** (1 / 4)"
   ]
  },
  {
   "cell_type": "code",
   "execution_count": null,
   "id": "b6614f7e-aa68-4b96-9d11-9374fe8486e4",
   "metadata": {},
   "outputs": [],
   "source": [
    "# Calculate the total number of bytes (rounding down to ignore fractional bytes)\n",
    "total_bytes = int(input(\"Input a number of bits: \"))\n",
    "\n",
    "BYTES_IN_BITS = 8\n",
    "BYTES_IN_KILOBYTE = 1024 * BYTES_IN_BITS\n",
    "BYTES_IN_MEGABYTE = 1024 * BYTES_IN_KILOBYTE\n",
    "\n",
    "\n",
    "# Calculate the number of megabytes\n",
    "megabytes = total_bytes // BYTES_IN_MEGABYTE\n",
    "remaining_bytes = total_bytes % BYTES_IN_MEGABYTE\n",
    "\n",
    "# Calculate the number of kilobytes\n",
    "kilobytes = remaining_bytes // BYTES_IN_KILOBYTE\n",
    "remaining_bytes = remaining_bytes % BYTES_IN_KILOBYTE\n",
    "\n",
    "# Calculate the number of Bytes\n",
    "Bytes = remaining_bytes // 8\n",
    "remaining_bytes = remaining_bytes % 8\n",
    "\n",
    "# The remaining bytes----> bits\n",
    "bits = remaining_bytes\n",
    "# return megabytes, kilobytes, Bytes, bits\n",
    "\n",
    "input_var = int(input(\"Input a number of bits: \"))\n",
    "\n",
    "\n",
    "mb = int(megabytes)\n",
    "kb = int(kilobytes)\n",
    "bytes = int(Bytes)\n",
    "b = int(bits)\n",
    "print(f\"{input_var} b = {mb} MB {kb} KB {bytes} B {b} b\")"
   ]
  },
  {
   "cell_type": "code",
   "execution_count": 49,
   "id": "c179757c-9afd-4375-ba63-a5bfd5b77088",
   "metadata": {},
   "outputs": [],
   "source": [
    "str_a = 'jwz'\n",
    "int_a = 1\n",
    "float_a = 1.5"
   ]
  },
  {
   "cell_type": "code",
   "execution_count": 50,
   "id": "14ed1937-6247-4608-aa6c-dd34440d7eac",
   "metadata": {},
   "outputs": [
    {
     "data": {
      "text/plain": [
       "'jwz'"
      ]
     },
     "execution_count": 50,
     "metadata": {},
     "output_type": "execute_result"
    }
   ],
   "source": [
    "str_a"
   ]
  },
  {
   "cell_type": "code",
   "execution_count": 54,
   "id": "2b460c18-09a8-469d-aed6-3ae45a9ba099",
   "metadata": {},
   "outputs": [
    {
     "name": "stdout",
     "output_type": "stream",
     "text": [
      "Hello 1.5000\n"
     ]
    }
   ],
   "source": [
    "print('Hello %.4f'%float_a)"
   ]
  },
  {
   "cell_type": "code",
   "execution_count": null,
   "id": "7d5338e5-6f67-4d9e-99ae-ff0d67ca6615",
   "metadata": {},
   "outputs": [],
   "source": []
  }
 ],
 "metadata": {
  "kernelspec": {
   "display_name": "torch2",
   "language": "python",
   "name": "torch2"
  },
  "language_info": {
   "codemirror_mode": {
    "name": "ipython",
    "version": 3
   },
   "file_extension": ".py",
   "mimetype": "text/x-python",
   "name": "python",
   "nbconvert_exporter": "python",
   "pygments_lexer": "ipython3",
   "version": "3.9.16"
  }
 },
 "nbformat": 4,
 "nbformat_minor": 5
}
