{
 "cells": [
  {
   "cell_type": "markdown",
   "metadata": {},
   "source": [
    "# Python DataStructure"
   ]
  },
  {
   "cell_type": "markdown",
   "metadata": {},
   "source": [
    "## ***Week 1***"
   ]
  },
  {
   "cell_type": "markdown",
   "metadata": {},
   "source": [
    "### ***If elif else***"
   ]
  },
  {
   "cell_type": "code",
   "execution_count": 2,
   "metadata": {},
   "outputs": [
    {
     "name": "stdout",
     "output_type": "stream",
     "text": [
      "回家写作业\n"
     ]
    }
   ],
   "source": [
    "\"\"\"\n",
    "if 要判断的条件:\n",
    "    条件满足时，要做的事情\n",
    "    ……\n",
    "else:\n",
    "    条件不满足时，要做的事情\n",
    "    ……\n",
    "\"\"\"\n",
    "\n",
    "## demo\n",
    "\"\"\"\n",
    "1. 输入用户年龄, input返回值是字符串, 类型转换为int\n",
    "2. if 判断是否满 18 岁：\n",
    "    2.1 如果满 18 岁，打印一句话：允许进网吧\n",
    "3. 否则，未满 18 岁：\n",
    "    3.1 打印一句话：提示回家写作业\n",
    "\"\"\"\n",
    "\n",
    "# 1. 输入用户年龄，input返回值是字符串，类型转换为int\n",
    "age = int(input('输入用户年龄: '))\n",
    "\n",
    "# 2. if 判断是否满 18 岁:\n",
    "if age >= 18:\n",
    "    # 2.1 如果满 18 岁，打印一句话：允许进网吧嗨皮\n",
    "    print('允许进网吧嗨皮')\n",
    "# 3. 否则，未满 18 岁\n",
    "else:\n",
    "    # 3.1 打印一句话：提示回家写作业\n",
    "    print('回家写作业')"
   ]
  },
  {
   "cell_type": "code",
   "execution_count": 7,
   "metadata": {},
   "outputs": [
    {
     "name": "stdout",
     "output_type": "stream",
     "text": [
      "允许进网吧嗨皮\n"
     ]
    }
   ],
   "source": [
    "## 提升代码的健壮性\n",
    "\"\"\"\n",
    "如果用户输入-1, 当输入要求不符合常理, 程序还有没有必要运行下去\n",
    "\n",
    "比如注册app的时候, 提示输入身份证号, 18位身份证号, 如果输入了17位, 会直接提示用户身份证号为18位数\n",
    "\n",
    "如何实现？===> Assert\n",
    "\"\"\"\n",
    "\n",
    "# 1. 输入用户年龄，input返回值是字符串，类型转换为int\n",
    "age = int(input('输入用户年龄: '))\n",
    "\n",
    "# 判断age是否符合实际情况 如果age >= 0, 程序继续运行, 否则直接报错\n",
    "assert age >= 0, 'Invalid age number!!'\n",
    "\n",
    "\n",
    "# 2. if 判断是否满 18 岁:\n",
    "if age >= 18:\n",
    "    # 2.1 如果满 18 岁，打印一句话：允许进网吧嗨皮\n",
    "    print('允许进网吧嗨皮')\n",
    "# 3. 否则，未满 18 岁\n",
    "else:\n",
    "    # 3.1 打印一句话：提示回家写作业\n",
    "    print('回家写作业')"
   ]
  },
  {
   "cell_type": "code",
   "execution_count": 11,
   "metadata": {},
   "outputs": [
    {
     "name": "stdout",
     "output_type": "stream",
     "text": [
      "2\n"
     ]
    }
   ],
   "source": [
    "\"\"\"\n",
    "if elif else 与 if if if的不同 (特别注意！)\n",
    "\"\"\"\n",
    "\n",
    "a = 999\n",
    "N = 0\n",
    "if a > 999:\n",
    "    N = 4\n",
    "if a > 99:\n",
    "    N = 3\n",
    "if a > 9:\n",
    "    N = 2\n",
    "print(N)\n",
    "\n",
    "\n",
    "# a = 999\n",
    "# N = 0\n",
    "# if a > 999:\n",
    "#     N = 4\n",
    "# elif a > 99:\n",
    "#     N = 3\n",
    "# elif a > 9:\n",
    "#     N = 2\n",
    "# else:\n",
    "#     N = 1\n",
    "# print(N)"
   ]
  },
  {
   "cell_type": "markdown",
   "metadata": {},
   "source": [
    "### ***while循环***"
   ]
  },
  {
   "cell_type": "code",
   "execution_count": 10,
   "metadata": {},
   "outputs": [
    {
     "name": "stdout",
     "output_type": "stream",
     "text": [
      "跑步第1圈\n",
      "跑步第2圈\n",
      "跑步第3圈\n",
      "跑步第4圈\n",
      "跑步第5圈\n",
      "跑步第6圈\n",
      "跑步第7圈\n",
      "跑步第8圈\n",
      "跑步第9圈\n",
      "跑步第10圈\n"
     ]
    }
   ],
   "source": [
    "\"\"\"\n",
    "循环的作用就是让 指定的代码 重复的执行\n",
    "\n",
    "while 循环格式:\n",
    "\n",
    "\n",
    "\n",
    "变量设置初始值\n",
    "\n",
    "while 条件(判断 变量是否满足条件):\n",
    "    条件满足时, 做的事情1\n",
    "    ...(省略)...\n",
    "    修改变量\n",
    "\"\"\"\n",
    "\n",
    "# demo: 循环跑步10圈\n",
    "\n",
    "\n",
    "# 1. 定义一个条件变量，一般赋值为0\n",
    "i = 0\n",
    "\n",
    "# 2. while 判断条件：\n",
    "while i < 10:\n",
    "    # 2.1 满足条件的代码块\n",
    "    print('跑步第%d圈' % (i+1))\n",
    "    # 2.2 条件变量的改变【非常重要】 <为什么?>\n",
    "    i += 1"
   ]
  },
  {
   "cell_type": "code",
   "execution_count": 11,
   "metadata": {},
   "outputs": [
    {
     "name": "stdout",
     "output_type": "stream",
     "text": [
      "_sum = 5050\n"
     ]
    }
   ],
   "source": [
    "\"\"\"\n",
    "1.3 死循环\n",
    "条件永远为真的(True)循环即为死循环，也叫无限循环\n",
    "\n",
    "while True:\n",
    "    print('我会永远循环执行下去')\n",
    "\"\"\"\n",
    "\n",
    "\n",
    "\"\"\"\n",
    "计算1~100的累加和（包含1和100）\n",
    "\"\"\"\n",
    "\n",
    "# 1. 定义条件变量 i, 赋值为1\n",
    "i = 1\n",
    "# 2. 定义一个辅助变量，用于保存累计的结果\n",
    "_sum = 0\n",
    "\n",
    "# 3. while 条件(i <= 100)：\n",
    "while i <= 100:\n",
    "    # 3.1 完成累加\n",
    "    _sum = _sum + i\n",
    "\n",
    "    # 3.2 条件变量改变\n",
    "    i += 1\n",
    "\n",
    "# 4. 在循环的外面，打印最终的累加结果\n",
    "print('_sum = %d' % _sum)"
   ]
  },
  {
   "cell_type": "code",
   "execution_count": 13,
   "metadata": {},
   "outputs": [
    {
     "name": "stdout",
     "output_type": "stream",
     "text": [
      "跑步第 1 圈\n",
      "第1俯卧撑\n",
      "第2俯卧撑\n",
      "第3俯卧撑\n",
      "第4俯卧撑\n",
      "第5俯卧撑\n",
      "第6俯卧撑\n",
      "第7俯卧撑\n",
      "第8俯卧撑\n",
      "第9俯卧撑\n",
      "第10俯卧撑\n",
      "跑步第 2 圈\n",
      "第1俯卧撑\n",
      "第2俯卧撑\n",
      "第3俯卧撑\n",
      "第4俯卧撑\n",
      "第5俯卧撑\n",
      "第6俯卧撑\n",
      "第7俯卧撑\n",
      "第8俯卧撑\n",
      "第9俯卧撑\n",
      "第10俯卧撑\n",
      "跑步第 3 圈\n",
      "第1俯卧撑\n",
      "第2俯卧撑\n",
      "第3俯卧撑\n",
      "第4俯卧撑\n",
      "第5俯卧撑\n",
      "第6俯卧撑\n",
      "第7俯卧撑\n",
      "第8俯卧撑\n",
      "第9俯卧撑\n",
      "第10俯卧撑\n",
      "跑步第 4 圈\n",
      "第1俯卧撑\n",
      "第2俯卧撑\n",
      "第3俯卧撑\n",
      "第4俯卧撑\n",
      "第5俯卧撑\n",
      "第6俯卧撑\n",
      "第7俯卧撑\n",
      "第8俯卧撑\n",
      "第9俯卧撑\n",
      "第10俯卧撑\n",
      "跑步第 5 圈\n",
      "第1俯卧撑\n",
      "第2俯卧撑\n",
      "第3俯卧撑\n",
      "第4俯卧撑\n",
      "第5俯卧撑\n",
      "第6俯卧撑\n",
      "第7俯卧撑\n",
      "第8俯卧撑\n",
      "第9俯卧撑\n",
      "第10俯卧撑\n"
     ]
    }
   ],
   "source": [
    "\"\"\"\n",
    "while循环嵌套  (步骤流程: 先写外层的while, 再写内层的while)\n",
    "\"\"\"\n",
    "\n",
    "\"\"\"\n",
    "while 嵌套就是: while 里面还有 while\n",
    "\n",
    "while 条件 1:\n",
    "    条件满足时, 做的事情1\n",
    "    ...(省略)...\n",
    "\n",
    "    while 条件 2:\n",
    "        条件满足时,做的事情1\n",
    "        ...(省略)...\n",
    "\n",
    "        处理条件 2\n",
    "        \n",
    "    处理条件 1\n",
    "\"\"\"\n",
    "\n",
    "# 需求：跑步 5 圈, 每跑步1圈, 做10个俯卧撑\n",
    "\n",
    "\"\"\"\n",
    "外层 while 步骤流程：\n",
    "1. 设置外层循环的条件变量 i, 赋值为0\n",
    "2. 外层while 条件(i < 5):\n",
    "    3. 打印跑了第几圈\n",
    "    4. 做10个俯卧撑内循环处理(先空着，不处理)\n",
    "    5. 外层循环的条件变量改变\n",
    "\n",
    "内层 while 步骤流程：\n",
    "4.1 定义内层循环条件变量 j = 0\n",
    "4.2 内层循环 while j < 10:\n",
    "    4.3 打印第几个俯卧撑\n",
    "    4.4 内层循环的条件变量改变\n",
    "\"\"\"\n",
    "\n",
    "# 1. 设置外层循环的条件变量 i， 赋值为0\n",
    "i = 0\n",
    "\n",
    "# 2. 外层while 条件(i < 5)：\n",
    "while i < 5:\n",
    "    # 3. 打印跑了第几圈\n",
    "    print('跑步第 %d 圈' % (i + 1))\n",
    "\n",
    "    # 4. 做10个俯卧撑\n",
    "    # 4.1 定义内层循环条件变量j = 0\n",
    "    j = 0\n",
    "\n",
    "    # 4.2 内层循环 while j < 10:\n",
    "    while j < 10:\n",
    "        # 4.3 打印第几个俯卧撑\n",
    "        print('第%d俯卧撑' % (j + 1))\n",
    "        # 4.4 内层循环的条件变量改变\n",
    "        j += 1\n",
    "\n",
    "    # 5. 外层循环的条件变量改变\n",
    "    i += 1"
   ]
  },
  {
   "cell_type": "code",
   "execution_count": 21,
   "metadata": {},
   "outputs": [
    {
     "name": "stdout",
     "output_type": "stream",
     "text": [
      "0\n",
      "1\n",
      "2\n",
      "3\n",
      "4\n",
      "5\n",
      "遇到了continue\n",
      "6\n",
      "7\n",
      "8\n",
      "9\n",
      "10\n"
     ]
    }
   ],
   "source": [
    "\"\"\"\n",
    "1. break 和 continue的作用\n",
    "break 和 continue 是专门在循环中使用的关键字\n",
    "\n",
    "break 跳出循环，不再执行循环体中后续重复的代码\n",
    "continue 跳过循环，不再执行本次循环体中后续重复的代码，但进入下一次循环判断\n",
    "break/continue只能用在循环中, 除此以外不能单独使用\n",
    "break/continue在嵌套循环中, 只对最近的一层循环起作用(就近原则)\n",
    "\"\"\"\n",
    "\n",
    "i = 0\n",
    "while i <= 10:\n",
    "    print(i)\n",
    "    if i == 5:\n",
    "        i += 1\n",
    "        print(\"遇到了continue\")\n",
    "        continue\n",
    "        # break\n",
    "    i += 1"
   ]
  },
  {
   "cell_type": "code",
   "execution_count": 18,
   "metadata": {},
   "outputs": [
    {
     "name": "stdout",
     "output_type": "stream",
     "text": [
      "0\n",
      "1\n",
      "2\n",
      "3\n",
      "4\n",
      "5\n"
     ]
    }
   ],
   "source": [
    "i = 0\n",
    "while i <= 10:\n",
    "    print(i)\n",
    "    if i == 5:\n",
    "        break\n",
    "        print(\"遇到了break\")\n",
    "    i += 1"
   ]
  },
  {
   "cell_type": "code",
   "execution_count": 22,
   "metadata": {},
   "outputs": [
    {
     "name": "stdout",
     "output_type": "stream",
     "text": [
      "跑步第1圈\n",
      "跑步第2圈\n",
      "跑步第3圈\n"
     ]
    }
   ],
   "source": [
    "\"\"\"\n",
    "2.1 循环的else\n",
    "循环也可以支持else使用\n",
    "循环里面没有遇到break语句, while执行完后, 则会执行else的分支\n",
    "\"\"\"\n",
    "\n",
    "i = 0\n",
    "while i < 5:\n",
    "    print('跑步第%d圈' % (i+1))\n",
    "    i += 1\n",
    "    if i == 3:\n",
    "        break\n",
    "    \n",
    "else:\n",
    "    print('循环里面没有遇到break语句, while执行完后, 则会执行else的分支')\n",
    "    \n",
    "\n",
    "\"\"\"\n",
    "    \n",
    "2.2 if…else 和 循环 else 的区别\n",
    "if…else: \n",
    "    不满足if条件的前提下, 执行else操作\n",
    "    两者只会执行一个分支\n",
    "循环 else: \n",
    "    循环里面没有遇到break语句, while执行完后, 则会执行else的分支\n",
    "    也就是说, 没有遇到break, 不仅会执行while的语句, 也会执行else的语句\n",
    "\n",
    "3. 小结\n",
    "break 语句在循环中的作用\n",
    "    跳出循环，不再执行循环体中后续重复的代码\n",
    "continue 语句在循环中的作用\n",
    "    跳过循环，不再执行本次循环体中后续重复的代码，但进入下一次循环判断\n",
    "循环的else的执行流程\n",
    "    循环里面没有遇到break语句, while执行完后, 则会执行else的分支\n",
    "\"\"\"\n",
    "    "
   ]
  },
  {
   "cell_type": "markdown",
   "metadata": {},
   "source": [
    "## ***Week 2***"
   ]
  },
  {
   "cell_type": "markdown",
   "metadata": {},
   "source": [
    "容器类型\n",
    "学习目标：\n",
    "\n",
    "能够说出常用 Python 容器类型的名字：列表、元组、字典、字符串、集合\n",
    "掌握容器类型的基本操作：定义和使用、增删改查、遍历等"
   ]
  },
  {
   "cell_type": "markdown",
   "metadata": {},
   "source": [
    "### List列表"
   ]
  },
  {
   "cell_type": "markdown",
   "metadata": {},
   "source": [
    "1. 列表的定义\n",
    "list（列表） 是 Python 中使用 最频繁 的数据类型\n",
    "专门用于存储 一串 数据，存储的数据 称为 元素\n",
    "列表用 [] 定义，元素 之间使用 , 分隔\n",
    "列表的 索引 从 0 开始\n",
    "索引 就是元素在 列表 中的位置编号"
   ]
  },
  {
   "attachments": {
    "image.png": {
     "image/png": "[encoded data removed]"
    }
   },
   "cell_type": "markdown",
   "metadata": {},
   "source": [
    "![image.png](attachment:image.png)"
   ]
  },
  {
   "cell_type": "code",
   "execution_count": 24,
   "metadata": {},
   "outputs": [
    {
     "name": "stdout",
     "output_type": "stream",
     "text": [
      "lily\n",
      "lily\n"
     ]
    }
   ],
   "source": [
    "\"\"\"\n",
    "列表定义的格式：\n",
    "列表变量的名字 = [元素1, 元素2, ……]\n",
    "\n",
    "使用格式：\n",
    "    列表变量[位置]\n",
    "    位置：也叫下标、索引\n",
    "\"\"\"\n",
    "\n",
    "# 列表定义\n",
    "name_list = ['mike', 'yoyo', 'rock', 'lily']\n",
    "#              0       1        2       3\n",
    "#             -4       -3      -2       -1\n",
    "\n",
    "# 最后一个元素取出来\n",
    "print(name_list[3])\n",
    "print(name_list[-1])\n",
    "\n",
    "# 访问列表元素，不要超出范围，不要越界\n",
    "# IndexError: list index out of range\n",
    "# print(name_list[4])"
   ]
  },
  {
   "cell_type": "markdown",
   "metadata": {},
   "source": [
    "2. 列表嵌套\n",
    "一个列表中的元素又是列表，那么这就是列表的嵌套"
   ]
  },
  {
   "cell_type": "code",
   "execution_count": 25,
   "metadata": {},
   "outputs": [
    {
     "name": "stdout",
     "output_type": "stream",
     "text": [
      "['中山大学', '华南理工大学']\n",
      "华南理工大学\n"
     ]
    }
   ],
   "source": [
    "school_list = [['北京大学', '清华大学'], ['中山大学', '华南理工大学'], ['哈工大', '哈工程']]\n",
    "#                  0                      1                         2\n",
    "\n",
    "# 取出第 2 个元素，也就是索引为1的元素\n",
    "print(school_list[1])  # ['中山大学', '华南理工大学']\n",
    "\n",
    "# 先取出索引为1的元素，再继续索引为1的元素\n",
    "# ['中山大学', '华南理工大学']\n",
    "#   0            1\n",
    "print(school_list[1][1])  # '华南理工大学'"
   ]
  },
  {
   "cell_type": "code",
   "execution_count": 35,
   "metadata": {},
   "outputs": [
    {
     "data": {
      "text/plain": [
       "[[1, 2, 3, 4], [5, 66, 7, 8]]"
      ]
     },
     "execution_count": 35,
     "metadata": {},
     "output_type": "execute_result"
    }
   ],
   "source": [
    "a = [\n",
    "    [1, 2, 3, 4],\n",
    "    [5, 6, 7, 8]\n",
    "]\n",
    "\n",
    "# a.remove(3)\n",
    "a[1][1] = 66\n",
    "a"
   ]
  },
  {
   "cell_type": "code",
   "execution_count": 38,
   "metadata": {},
   "outputs": [
    {
     "data": {
      "text/plain": [
       "[0, 1, 2, 3, 4, 5, 6, 7, 8, 9, 10]"
      ]
     },
     "execution_count": 38,
     "metadata": {},
     "output_type": "execute_result"
    }
   ],
   "source": [
    "a = []\n",
    "\n",
    "for i in range(11):\n",
    "    a.append(i)\n",
    "\n",
    "a"
   ]
  },
  {
   "cell_type": "code",
   "execution_count": 39,
   "metadata": {},
   "outputs": [
    {
     "data": {
      "text/plain": [
       "[0, 1, 2, 3, 4, 5, 6, 7, 8, 9, 10]"
      ]
     },
     "execution_count": 39,
     "metadata": {},
     "output_type": "execute_result"
    }
   ],
   "source": [
    "[i for i in range(11)]"
   ]
  },
  {
   "cell_type": "code",
   "execution_count": 41,
   "metadata": {},
   "outputs": [
    {
     "data": {
      "text/plain": [
       "1"
      ]
     },
     "execution_count": 41,
     "metadata": {},
     "output_type": "execute_result"
    }
   ],
   "source": [
    "len(' ')"
   ]
  },
  {
   "cell_type": "code",
   "execution_count": 1,
   "metadata": {},
   "outputs": [],
   "source": [
    "# a = dict()\n",
    "# help(a)"
   ]
  },
  {
   "cell_type": "markdown",
   "metadata": {},
   "source": [
    "### Tuple元组"
   ]
  },
  {
   "cell_type": "markdown",
   "metadata": {},
   "source": [
    "元组用 () 定义\n",
    "\n",
    "用于存储 一串 数据，元素 之间使用 , 分隔\n",
    "\n",
    "元组的 索引 从 0 开始"
   ]
  },
  {
   "cell_type": "code",
   "execution_count": 2,
   "metadata": {},
   "outputs": [
    {
     "name": "stdout",
     "output_type": "stream",
     "text": [
      "mike\n"
     ]
    }
   ],
   "source": [
    "# 列表：列表变量 = [元素1, 元素2, ……]\n",
    "# 元组：元组变量 = (元素1, 元素2, ……)\n",
    "my_tuple = ('mike', 'yoyo', 'lily')\n",
    "#             0       1        2\n",
    "\n",
    "# 取出第0个元素\n",
    "print(my_tuple[0])  # 输出：'mike'"
   ]
  },
  {
   "cell_type": "code",
   "execution_count": 34,
   "metadata": {},
   "outputs": [
    {
     "name": "stdout",
     "output_type": "stream",
     "text": [
      "<class 'tuple'>\n"
     ]
    }
   ],
   "source": [
    "# 元组中 只包含一个元素 时，需要 在元素后面添加逗号\n",
    "# 元组只有一个元素的时候，格式: (元素,)\n",
    "my_tuple1 = (250, )\n",
    "# 打印my_tuple1的类型\n",
    "print(type(my_tuple1))"
   ]
  },
  {
   "cell_type": "code",
   "execution_count": 37,
   "metadata": {},
   "outputs": [
    {
     "ename": "TypeError",
     "evalue": "'tuple' object does not support item assignment",
     "output_type": "error",
     "traceback": [
      "\u001b[1;31m---------------------------------------------------------------------------\u001b[0m",
      "\u001b[1;31mTypeError\u001b[0m                                 Traceback (most recent call last)",
      "Cell \u001b[1;32mIn[37], line 5\u001b[0m\n\u001b[0;32m      2\u001b[0m my_tuple \u001b[38;5;241m=\u001b[39m (\u001b[38;5;124m'\u001b[39m\u001b[38;5;124mmike\u001b[39m\u001b[38;5;124m'\u001b[39m, \u001b[38;5;124m'\u001b[39m\u001b[38;5;124myoyo\u001b[39m\u001b[38;5;124m'\u001b[39m, \u001b[38;5;124m'\u001b[39m\u001b[38;5;124mlily\u001b[39m\u001b[38;5;124m'\u001b[39m)\n\u001b[0;32m      3\u001b[0m \u001b[38;5;66;03m# 元组只读不能改\u001b[39;00m\n\u001b[0;32m      4\u001b[0m \u001b[38;5;66;03m# TypeError: 'tuple' object does not support item assignment\u001b[39;00m\n\u001b[1;32m----> 5\u001b[0m \u001b[43mmy_tuple\u001b[49m\u001b[43m[\u001b[49m\u001b[38;5;241;43m0\u001b[39;49m\u001b[43m]\u001b[49m \u001b[38;5;241m=\u001b[39m \u001b[38;5;124m'\u001b[39m\u001b[38;5;124mrock\u001b[39m\u001b[38;5;124m'\u001b[39m \u001b[38;5;66;03m# err\u001b[39;00m\n",
      "\u001b[1;31mTypeError\u001b[0m: 'tuple' object does not support item assignment"
     ]
    }
   ],
   "source": [
    "# tuple（元组）与列表类似，不同之处在于元组的 元素不能修改\n",
    "my_tuple = ('mike', 'yoyo', 'lily')\n",
    "# 元组只读不能改\n",
    "# TypeError: 'tuple' object does not support item assignment\n",
    "# my_tuple[0] = 'rock' # err"
   ]
  },
  {
   "cell_type": "markdown",
   "metadata": {},
   "source": [
    "### Dict字典"
   ]
  },
  {
   "cell_type": "markdown",
   "metadata": {},
   "source": [
    "学习目标：\n",
    "\n",
    "知道定义字典的基本格式\n",
    "\n",
    "知道字典的常用操作：增删改查\n",
    "\n",
    "能够通过for循环完成对字典的遍历"
   ]
  },
  {
   "attachments": {
    "image.png": {
     "image/png": "[encoded data removed]"
    }
   },
   "cell_type": "markdown",
   "metadata": {},
   "source": [
    "![image.png](attachment:image.png)"
   ]
  },
  {
   "cell_type": "code",
   "execution_count": 52,
   "metadata": {},
   "outputs": [
    {
     "data": {
      "text/plain": [
       "'jzm'"
      ]
     },
     "execution_count": 52,
     "metadata": {},
     "output_type": "execute_result"
    }
   ],
   "source": [
    "\"\"\"\n",
    "字典同样可以用来 存储多个数据\n",
    "通常用于存储 描述一个 物体 的相关信息\n",
    "字典用 {} 定义\n",
    "字典使用 键值对 存储数据，键值对之间使用 , 分隔\n",
    "键 key 是索引，值 value 是数据\n",
    "键 和 值 之间使用 : 分隔\n",
    "值 可以取任何数据类型，但 键 只能使用 字符串、数字或 元组\n",
    "键必须是唯一的\n",
    "\"\"\"\n",
    "\n",
    "\"\"\"\n",
    "字典定义格式：\n",
    "    字典变量 = {k1:v1, k2:v2,……}\n",
    "\n",
    "取出元素的值：\n",
    "    字典变量[键值]\n",
    "\"\"\"\n",
    "# 字典的定义\n",
    "info = {'name': 'mike', 'age': 34, 'city': 'sz'}\n",
    "# print(info)  # {'name': 'mike', 'age': 34, 'city': 'sz'}\n",
    "\n",
    "# 取出元素的值：字典变量[键值]\n",
    "# info.keys()\n",
    "# info.values()\n",
    "# print(info['city'])"
   ]
  },
  {
   "cell_type": "code",
   "execution_count": 50,
   "metadata": {},
   "outputs": [],
   "source": [
    "# a = {}\n",
    "\n",
    "# help(a)"
   ]
  },
  {
   "cell_type": "code",
   "execution_count": 7,
   "metadata": {},
   "outputs": [],
   "source": [
    "\"\"\"\n",
    "在开发中，字典的应用场景是：\n",
    "\n",
    "使用 多个键值对，存储 描述一个 物体 的相关信息 —— 描述更复杂的数据信息\n",
    "\n",
    "将 多个字典 放在 一个列表 中，再进行遍历，在循环体内部针对每一个字典进行 相同的处理\n",
    "\"\"\"\n",
    "\n",
    "# 用户1: {'name': 'mike', 'pwd':123456}\n",
    "# 用户2: {'name': 'yoyo', 'pwd':123456}\n",
    "\n",
    "## 用户管理列表：\n",
    "user_list = [{'name': 'mike', 'pwd':123456}, {'name': 'yoyo', 'pwd':123456}]"
   ]
  },
  {
   "cell_type": "markdown",
   "metadata": {},
   "source": [
    "### String字符串"
   ]
  },
  {
   "cell_type": "markdown",
   "metadata": {},
   "source": [
    "字符串 就是 一串字符，是编程语言中表示文本的数据类型\n",
    "\n",
    "在 Python 中可以使用 一对双引号 \" 或者 一对单引号 ' 定义一个字符串 或者 一对三引号 ''' 定义一个字符串\n",
    "\n",
    "可以使用 索引 获取一个字符串中 指定位置的字符，索引计数从 0 开始\n",
    "\n",
    "也可以使用 for 循环遍历 字符串中每一个字符"
   ]
  },
  {
   "cell_type": "code",
   "execution_count": 8,
   "metadata": {},
   "outputs": [
    {
     "name": "stdout",
     "output_type": "stream",
     "text": [
      "p\n",
      "p\n",
      "y\n",
      "t\n",
      "h\n",
      "o\n",
      "n\n"
     ]
    }
   ],
   "source": [
    "\"\"\"\n",
    "字符串变量 = '字符串内容'\n",
    "说明：可以是单引号、双引号、三引号\n",
    "\n",
    "\"\"\"\n",
    "my_str = 'python'\n",
    "#         012345\n",
    "\n",
    "# 取某个元素，和列表一样\n",
    "print(my_str[0])\n",
    "\n",
    "# 遍历取所有元素\n",
    "for c in my_str:\n",
    "    print(c)"
   ]
  },
  {
   "cell_type": "code",
   "execution_count": 9,
   "metadata": {},
   "outputs": [
    {
     "name": "stdout",
     "output_type": "stream",
     "text": [
      "我叫mike, 年龄为34, 性别为：male\n",
      "我叫mike, 年龄为34, 性别为：male\n",
      "我叫mike, 年龄为34, 性别为：male\n"
     ]
    }
   ],
   "source": [
    "\"\"\"\n",
    "f-strings 字符串格式化\n",
    "f-strings是Python 3.6之后的一种新的字符串格式化方法，要使用f-strings，只需在字符串前加上f、或F\n",
    "\"\"\"\n",
    "\n",
    "name = 'mike'\n",
    "age = 34\n",
    "sex = 'male'\n",
    "\n",
    "# 传统方式格式化\n",
    "print('我叫%s, 年龄为%d, 性别为：%s' % (name, age, sex))\n",
    "\n",
    "# 和上面打印效果一样\n",
    "print(f'我叫{name}, 年龄为{age}, 性别为：{sex}')\n",
    "print(F'我叫{name}, 年龄为{age}, 性别为：{sex}')"
   ]
  },
  {
   "attachments": {
    "image.png": {
     "image/png": "[encoded data removed]"
    }
   },
   "cell_type": "markdown",
   "metadata": {},
   "source": [
    "![image.png](attachment:image.png)"
   ]
  },
  {
   "cell_type": "markdown",
   "metadata": {},
   "source": [
    "4.1 切片介绍\n",
    "\n",
    "切片 译自英文单词 slice，翻译成另一个解释更好理解: 一部分\n",
    "\n",
    "切片 使用 索引值 来限定范围，根据 步长 从原序列中 取出一部分 元素组成新序列\n",
    "\n",
    "切片 方法适用于 字符串、列表、元组"
   ]
  },
  {
   "cell_type": "markdown",
   "metadata": {},
   "source": [
    "字符串[开始索引:结束索引:步长]"
   ]
  },
  {
   "attachments": {
    "image.png": {
     "image/png": "[encoded data removed]"
    }
   },
   "cell_type": "markdown",
   "metadata": {},
   "source": [
    "![image.png](attachment:image.png)"
   ]
  },
  {
   "cell_type": "code",
   "execution_count": null,
   "metadata": {},
   "outputs": [],
   "source": []
  }
 ],
 "metadata": {
  "kernelspec": {
   "display_name": "torch2",
   "language": "python",
   "name": "python3"
  },
  "language_info": {
   "codemirror_mode": {
    "name": "ipython",
    "version": 3
   },
   "file_extension": ".py",
   "mimetype": "text/x-python",
   "name": "python",
   "nbconvert_exporter": "python",
   "pygments_lexer": "ipython3",
   "version": "3.9.16"
  }
 },
 "nbformat": 4,
 "nbformat_minor": 2
}
